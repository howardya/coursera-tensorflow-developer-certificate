{
  "nbformat": 4,
  "nbformat_minor": 0,
  "metadata": {
    "accelerator": "GPU",
    "colab": {
      "name": "C3_W3_Assignment_Solution.ipynb",
      "provenance": [],
      "collapsed_sections": [],
      "toc_visible": true,
      "include_colab_link": true
    },
    "kernelspec": {
      "name": "python3",
      "display_name": "Python 3"
    },
    "language_info": {
      "name": "python"
    }
  },
  "cells": [
    {
      "cell_type": "markdown",
      "metadata": {
        "id": "view-in-github",
        "colab_type": "text"
      },
      "source": [
        "<a href=\"https://colab.research.google.com/github/howardya/coursera-tensorflow-developer-certificate/blob/main/C3/C3_W3_Assignment_Solution.ipynb\" target=\"_parent\"><img src=\"https://colab.research.google.com/assets/colab-badge.svg\" alt=\"Open In Colab\"/></a>"
      ]
    },
    {
      "cell_type": "code",
      "metadata": {
        "id": "zX4Kg8DUTKWO"
      },
      "source": [
        "#@title Licensed under the Apache License, Version 2.0 (the \"License\");\n",
        "# you may not use this file except in compliance with the License.\n",
        "# You may obtain a copy of the License at\n",
        "#\n",
        "# https://www.apache.org/licenses/LICENSE-2.0\n",
        "#\n",
        "# Unless required by applicable law or agreed to in writing, software\n",
        "# distributed under the License is distributed on an \"AS IS\" BASIS,\n",
        "# WITHOUT WARRANTIES OR CONDITIONS OF ANY KIND, either express or implied.\n",
        "# See the License for the specific language governing permissions and\n",
        "# limitations under the License."
      ],
      "execution_count": null,
      "outputs": []
    },
    {
      "cell_type": "markdown",
      "metadata": {
        "id": "-v8aHcpUdtKN"
      },
      "source": [
        "**Note:** This notebook can run using TensorFlow 2.5.0"
      ]
    },
    {
      "cell_type": "code",
      "metadata": {
        "id": "FtL554lDdtKO"
      },
      "source": [
        "#!pip install tensorflow==2.5.0"
      ],
      "execution_count": null,
      "outputs": []
    },
    {
      "cell_type": "code",
      "metadata": {
        "id": "hmA6EzkQJ5jt"
      },
      "source": [
        "import json\n",
        "import tensorflow as tf\n",
        "import csv\n",
        "import random\n",
        "import numpy as np\n",
        "\n",
        "from tensorflow.keras.preprocessing.text import Tokenizer\n",
        "from tensorflow.keras.preprocessing.sequence import pad_sequences\n",
        "from tensorflow.keras.utils import to_categorical\n",
        "from tensorflow.keras import regularizers\n",
        "\n",
        "\n",
        "embedding_dim = 100\n",
        "max_length = 16\n",
        "trunc_type='post'\n",
        "padding_type='post'\n",
        "oov_tok = \"<OOV>\"\n",
        "training_size=160000\n",
        "test_portion=.1\n",
        "\n",
        "corpus = []\n"
      ],
      "execution_count": 1,
      "outputs": []
    },
    {
      "cell_type": "code",
      "metadata": {
        "id": "bM0l_dORKqE0",
        "outputId": "08cd25be-5bcf-435b-fcaf-1be864fd9f1a",
        "colab": {
          "base_uri": "https://localhost:8080/"
        }
      },
      "source": [
        "# Note that I cleaned the Stanford dataset to remove LATIN1 encoding to make it easier for Python CSV reader\n",
        "# You can do that yourself with:\n",
        "# iconv -f LATIN1 -t UTF8 training.1600000.processed.noemoticon.csv -o training_cleaned.csv\n",
        "\n",
        "# training_cleaned.csv\n",
        "!gdown --id 1wd8KaeCSHxt-nEpMeuHFSNWrDp8joUXJ\n",
        "\n",
        "num_sentences = 0\n",
        "\n",
        "with open(\"./training_cleaned.csv\") as csvfile:\n",
        "    reader = csv.reader(csvfile, delimiter=',')\n",
        "    for row in reader:\n",
        "        list_item=[]\n",
        "        \n",
        "        ### START CODE HERE\n",
        "        list_item.append(row[5])\n",
        "        this_label=row[0]\n",
        "        if this_label=='0':\n",
        "            list_item.append(0)\n",
        "        else:\n",
        "            list_item.append(1)\n",
        "        ### END CODE HERE\n",
        "        \n",
        "        num_sentences = num_sentences + 1\n",
        "        corpus.append(list_item)\n"
      ],
      "execution_count": 2,
      "outputs": [
        {
          "output_type": "stream",
          "name": "stdout",
          "text": [
            "Downloading...\n",
            "From: https://drive.google.com/uc?id=1wd8KaeCSHxt-nEpMeuHFSNWrDp8joUXJ\n",
            "To: /content/training_cleaned.csv\n",
            "239MB [00:02, 114MB/s]\n"
          ]
        }
      ]
    },
    {
      "cell_type": "code",
      "metadata": {
        "id": "3kxblBUjEUX-",
        "outputId": "c5d283ee-8b79-4a5a-f294-c2f865cff4ea",
        "colab": {
          "base_uri": "https://localhost:8080/"
        }
      },
      "source": [
        "print(num_sentences)\n",
        "print(len(corpus))\n",
        "print(corpus[1])\n",
        "\n",
        "# Expected Output:\n",
        "# 1600000\n",
        "# 1600000\n",
        "# [\"is upset that he can't update his Facebook by texting it... and might cry as a result  School today also. Blah!\", 0]"
      ],
      "execution_count": 3,
      "outputs": [
        {
          "output_type": "stream",
          "name": "stdout",
          "text": [
            "1600000\n",
            "1600000\n",
            "[\"is upset that he can't update his Facebook by texting it... and might cry as a result  School today also. Blah!\", 0]\n"
          ]
        }
      ]
    },
    {
      "cell_type": "code",
      "metadata": {
        "id": "ohOGz24lsNAD",
        "outputId": "6d8cabb4-237e-455a-f79a-c3518f466463",
        "colab": {
          "base_uri": "https://localhost:8080/"
        }
      },
      "source": [
        "sentences=[]\n",
        "labels=[]\n",
        "random.shuffle(corpus)\n",
        "for x in range(training_size):\n",
        "    sentences.append(corpus[x][0])# YOUR CODE HERE)\n",
        "    labels.append(corpus[x][1])# YOUR CODE HERE)\n",
        "\n",
        "print(sentences[0])\n",
        "tokenizer = Tokenizer()\n",
        "tokenizer.fit_on_texts(sentences)# YOUR CODE HERE)\n",
        "\n",
        "word_index = tokenizer.word_index\n",
        "vocab_size=len(word_index)# YOUR CODE HERE)\n",
        "\n",
        "sequences = tokenizer.texts_to_sequences(sentences)# YOUR CODE HERE)\n",
        "padded = pad_sequences(sequences, maxlen=max_length, padding=padding_type, truncating=trunc_type)# YOUR CODE HERE)\n",
        "\n",
        "split = int(test_portion * training_size)\n",
        "\n",
        "test_sequences = padded[0:split]# YOUR CODE HERE)\n",
        "training_sequences = padded[split:training_size]# YOUR CODE HERE)\n",
        "test_labels = labels[0:split]# YOUR CODE HERE)\n",
        "training_labels = labels[split:training_size]# YOUR CODE HERE)"
      ],
      "execution_count": 5,
      "outputs": [
        {
          "output_type": "stream",
          "name": "stdout",
          "text": [
            "It took days to type this  re: http://ff.im/3vMwf\n"
          ]
        }
      ]
    },
    {
      "cell_type": "code",
      "metadata": {
        "id": "gIrtRem1En3N",
        "outputId": "12021b72-e653-4152-fce4-0b8a9609854b",
        "colab": {
          "base_uri": "https://localhost:8080/"
        }
      },
      "source": [
        "print(vocab_size)\n",
        "print(word_index['i'])\n",
        "# Expected Output\n",
        "# 138856\n",
        "# 1"
      ],
      "execution_count": 6,
      "outputs": [
        {
          "output_type": "stream",
          "name": "stdout",
          "text": [
            "138554\n",
            "1\n"
          ]
        }
      ]
    },
    {
      "cell_type": "code",
      "metadata": {
        "id": "C1zdgJkusRh0",
        "outputId": "275c6ea9-8f3f-492f-8357-ff253187374b",
        "colab": {
          "base_uri": "https://localhost:8080/"
        }
      },
      "source": [
        "# Note this is the 100 dimension version of GloVe from Stanford\n",
        "\n",
        "# glove.6B.100d.txt\n",
        "!gdown --id 1W5vZy2etitAblLdFn8_DxnsQKzfFJ98g\n",
        "\n",
        "embeddings_index = {};\n",
        "with open('./glove.6B.100d.txt') as f:\n",
        "    for line in f:\n",
        "        values = line.split();\n",
        "        word = values[0];\n",
        "        coefs = np.asarray(values[1:], dtype='float32');\n",
        "        embeddings_index[word] = coefs;\n",
        "\n",
        "embeddings_matrix = np.zeros((vocab_size+1, embedding_dim));\n",
        "for word, i in word_index.items():\n",
        "    embedding_vector = embeddings_index.get(word);\n",
        "    if embedding_vector is not None:\n",
        "        embeddings_matrix[i] = embedding_vector;"
      ],
      "execution_count": 7,
      "outputs": [
        {
          "output_type": "stream",
          "name": "stdout",
          "text": [
            "Downloading...\n",
            "From: https://drive.google.com/uc?id=1W5vZy2etitAblLdFn8_DxnsQKzfFJ98g\n",
            "To: /content/glove.6B.100d.txt\n",
            "347MB [00:04, 80.8MB/s]\n"
          ]
        }
      ]
    },
    {
      "cell_type": "code",
      "metadata": {
        "id": "71NLk_lpFLNt",
        "outputId": "5df43fba-6de9-477e-b844-0e9052f21b5c",
        "colab": {
          "base_uri": "https://localhost:8080/"
        }
      },
      "source": [
        "print(len(embeddings_matrix))\n",
        "# Expected Output\n",
        "# 138857"
      ],
      "execution_count": 8,
      "outputs": [
        {
          "output_type": "stream",
          "name": "stdout",
          "text": [
            "138555\n"
          ]
        }
      ]
    },
    {
      "cell_type": "code",
      "metadata": {
        "id": "iKKvbuEBOGFz",
        "outputId": "04b68b3c-9802-4b33-e80e-0969863690be",
        "colab": {
          "base_uri": "https://localhost:8080/"
        }
      },
      "source": [
        "model = tf.keras.Sequential([\n",
        "    # YOUR CODE HERE\n",
        "    tf.keras.layers.Embedding(vocab_size+1, embedding_dim, input_length=max_length, weights=[embeddings_matrix], trainable=False),\n",
        "    tf.keras.layers.Dropout(0.2),\n",
        "    tf.keras.layers.Conv1D(64, 5, activation='relu'),\n",
        "    tf.keras.layers.MaxPooling1D(pool_size=4),\n",
        "    tf.keras.layers.LSTM(64),\n",
        "    tf.keras.layers.Dense(1, activation='sigmoid')\n",
        "])\n",
        "model.compile(loss='binary_crossentropy',optimizer='adam',metrics=['accuracy'])# YOUR CODE HERE)\n",
        "model.summary()\n",
        "\n",
        "num_epochs = 50\n",
        "\n",
        "training_padded = np.array(training_sequences)\n",
        "training_labels = np.array(training_labels)\n",
        "testing_padded = np.array(test_sequences)\n",
        "testing_labels = np.array(test_labels)\n",
        "\n",
        "history = model.fit(training_padded, training_labels, epochs=num_epochs, validation_data=(testing_padded, testing_labels), verbose=2)\n",
        "\n",
        "print(\"Training Complete\")"
      ],
      "execution_count": 9,
      "outputs": [
        {
          "output_type": "stream",
          "name": "stdout",
          "text": [
            "Model: \"sequential\"\n",
            "_________________________________________________________________\n",
            "Layer (type)                 Output Shape              Param #   \n",
            "=================================================================\n",
            "embedding (Embedding)        (None, 16, 100)           13855500  \n",
            "_________________________________________________________________\n",
            "dropout (Dropout)            (None, 16, 100)           0         \n",
            "_________________________________________________________________\n",
            "conv1d (Conv1D)              (None, 12, 64)            32064     \n",
            "_________________________________________________________________\n",
            "max_pooling1d (MaxPooling1D) (None, 3, 64)             0         \n",
            "_________________________________________________________________\n",
            "lstm (LSTM)                  (None, 64)                33024     \n",
            "_________________________________________________________________\n",
            "dense (Dense)                (None, 1)                 65        \n",
            "=================================================================\n",
            "Total params: 13,920,653\n",
            "Trainable params: 65,153\n",
            "Non-trainable params: 13,855,500\n",
            "_________________________________________________________________\n",
            "Epoch 1/50\n",
            "4500/4500 - 51s - loss: 0.5676 - accuracy: 0.6987 - val_loss: 0.5308 - val_accuracy: 0.7256\n",
            "Epoch 2/50\n",
            "4500/4500 - 16s - loss: 0.5303 - accuracy: 0.7291 - val_loss: 0.5113 - val_accuracy: 0.7462\n",
            "Epoch 3/50\n",
            "4500/4500 - 16s - loss: 0.5139 - accuracy: 0.7408 - val_loss: 0.5048 - val_accuracy: 0.7491\n",
            "Epoch 4/50\n",
            "4500/4500 - 16s - loss: 0.5033 - accuracy: 0.7491 - val_loss: 0.4996 - val_accuracy: 0.7588\n",
            "Epoch 5/50\n",
            "4500/4500 - 17s - loss: 0.4946 - accuracy: 0.7550 - val_loss: 0.4978 - val_accuracy: 0.7583\n",
            "Epoch 6/50\n",
            "4500/4500 - 17s - loss: 0.4872 - accuracy: 0.7607 - val_loss: 0.5001 - val_accuracy: 0.7579\n",
            "Epoch 7/50\n",
            "4500/4500 - 16s - loss: 0.4803 - accuracy: 0.7641 - val_loss: 0.4947 - val_accuracy: 0.7583\n",
            "Epoch 8/50\n",
            "4500/4500 - 16s - loss: 0.4763 - accuracy: 0.7667 - val_loss: 0.4962 - val_accuracy: 0.7606\n",
            "Epoch 9/50\n",
            "4500/4500 - 16s - loss: 0.4718 - accuracy: 0.7698 - val_loss: 0.4931 - val_accuracy: 0.7629\n",
            "Epoch 10/50\n",
            "4500/4500 - 17s - loss: 0.4690 - accuracy: 0.7718 - val_loss: 0.4965 - val_accuracy: 0.7593\n",
            "Epoch 11/50\n",
            "4500/4500 - 17s - loss: 0.4641 - accuracy: 0.7743 - val_loss: 0.4957 - val_accuracy: 0.7594\n",
            "Epoch 12/50\n",
            "4500/4500 - 16s - loss: 0.4619 - accuracy: 0.7769 - val_loss: 0.4990 - val_accuracy: 0.7595\n",
            "Epoch 13/50\n",
            "4500/4500 - 17s - loss: 0.4581 - accuracy: 0.7792 - val_loss: 0.4967 - val_accuracy: 0.7601\n",
            "Epoch 14/50\n",
            "4500/4500 - 17s - loss: 0.4568 - accuracy: 0.7782 - val_loss: 0.4969 - val_accuracy: 0.7609\n",
            "Epoch 15/50\n",
            "4500/4500 - 17s - loss: 0.4542 - accuracy: 0.7814 - val_loss: 0.4970 - val_accuracy: 0.7631\n",
            "Epoch 16/50\n",
            "4500/4500 - 16s - loss: 0.4522 - accuracy: 0.7821 - val_loss: 0.4953 - val_accuracy: 0.7644\n",
            "Epoch 17/50\n",
            "4500/4500 - 17s - loss: 0.4506 - accuracy: 0.7830 - val_loss: 0.4975 - val_accuracy: 0.7635\n",
            "Epoch 18/50\n",
            "4500/4500 - 16s - loss: 0.4477 - accuracy: 0.7843 - val_loss: 0.5026 - val_accuracy: 0.7598\n",
            "Epoch 19/50\n",
            "4500/4500 - 17s - loss: 0.4476 - accuracy: 0.7852 - val_loss: 0.4998 - val_accuracy: 0.7603\n",
            "Epoch 20/50\n",
            "4500/4500 - 17s - loss: 0.4470 - accuracy: 0.7857 - val_loss: 0.4999 - val_accuracy: 0.7638\n",
            "Epoch 21/50\n",
            "4500/4500 - 17s - loss: 0.4442 - accuracy: 0.7860 - val_loss: 0.5057 - val_accuracy: 0.7588\n",
            "Epoch 22/50\n",
            "4500/4500 - 17s - loss: 0.4429 - accuracy: 0.7861 - val_loss: 0.5019 - val_accuracy: 0.7624\n",
            "Epoch 23/50\n",
            "4500/4500 - 17s - loss: 0.4424 - accuracy: 0.7882 - val_loss: 0.5034 - val_accuracy: 0.7573\n",
            "Epoch 24/50\n",
            "4500/4500 - 17s - loss: 0.4415 - accuracy: 0.7893 - val_loss: 0.5029 - val_accuracy: 0.7618\n",
            "Epoch 25/50\n",
            "4500/4500 - 17s - loss: 0.4407 - accuracy: 0.7880 - val_loss: 0.4990 - val_accuracy: 0.7611\n",
            "Epoch 26/50\n",
            "4500/4500 - 17s - loss: 0.4391 - accuracy: 0.7908 - val_loss: 0.5068 - val_accuracy: 0.7599\n",
            "Epoch 27/50\n",
            "4500/4500 - 17s - loss: 0.4390 - accuracy: 0.7909 - val_loss: 0.5039 - val_accuracy: 0.7611\n",
            "Epoch 28/50\n",
            "4500/4500 - 16s - loss: 0.4382 - accuracy: 0.7909 - val_loss: 0.5024 - val_accuracy: 0.7620\n",
            "Epoch 29/50\n",
            "4500/4500 - 16s - loss: 0.4370 - accuracy: 0.7919 - val_loss: 0.5069 - val_accuracy: 0.7616\n",
            "Epoch 30/50\n",
            "4500/4500 - 16s - loss: 0.4365 - accuracy: 0.7930 - val_loss: 0.5053 - val_accuracy: 0.7590\n",
            "Epoch 31/50\n",
            "4500/4500 - 16s - loss: 0.4359 - accuracy: 0.7920 - val_loss: 0.5026 - val_accuracy: 0.7597\n",
            "Epoch 32/50\n",
            "4500/4500 - 16s - loss: 0.4344 - accuracy: 0.7936 - val_loss: 0.5070 - val_accuracy: 0.7577\n",
            "Epoch 33/50\n",
            "4500/4500 - 16s - loss: 0.4347 - accuracy: 0.7934 - val_loss: 0.5066 - val_accuracy: 0.7551\n",
            "Epoch 34/50\n",
            "4500/4500 - 16s - loss: 0.4349 - accuracy: 0.7920 - val_loss: 0.5126 - val_accuracy: 0.7534\n",
            "Epoch 35/50\n",
            "4500/4500 - 16s - loss: 0.4332 - accuracy: 0.7923 - val_loss: 0.5106 - val_accuracy: 0.7549\n",
            "Epoch 36/50\n",
            "4500/4500 - 16s - loss: 0.4341 - accuracy: 0.7932 - val_loss: 0.5097 - val_accuracy: 0.7538\n",
            "Epoch 37/50\n",
            "4500/4500 - 16s - loss: 0.4353 - accuracy: 0.7913 - val_loss: 0.5094 - val_accuracy: 0.7581\n",
            "Epoch 38/50\n",
            "4500/4500 - 17s - loss: 0.4322 - accuracy: 0.7946 - val_loss: 0.5103 - val_accuracy: 0.7589\n",
            "Epoch 39/50\n",
            "4500/4500 - 16s - loss: 0.4327 - accuracy: 0.7942 - val_loss: 0.5090 - val_accuracy: 0.7579\n",
            "Epoch 40/50\n",
            "4500/4500 - 16s - loss: 0.4311 - accuracy: 0.7950 - val_loss: 0.5088 - val_accuracy: 0.7545\n",
            "Epoch 41/50\n",
            "4500/4500 - 16s - loss: 0.4329 - accuracy: 0.7926 - val_loss: 0.5100 - val_accuracy: 0.7542\n",
            "Epoch 42/50\n",
            "4500/4500 - 16s - loss: 0.4305 - accuracy: 0.7955 - val_loss: 0.5150 - val_accuracy: 0.7553\n",
            "Epoch 43/50\n",
            "4500/4500 - 16s - loss: 0.4316 - accuracy: 0.7947 - val_loss: 0.5151 - val_accuracy: 0.7566\n",
            "Epoch 44/50\n",
            "4500/4500 - 17s - loss: 0.4316 - accuracy: 0.7950 - val_loss: 0.5156 - val_accuracy: 0.7539\n",
            "Epoch 45/50\n",
            "4500/4500 - 16s - loss: 0.4304 - accuracy: 0.7952 - val_loss: 0.5067 - val_accuracy: 0.7584\n",
            "Epoch 46/50\n",
            "4500/4500 - 16s - loss: 0.4318 - accuracy: 0.7953 - val_loss: 0.5101 - val_accuracy: 0.7558\n",
            "Epoch 47/50\n",
            "4500/4500 - 16s - loss: 0.4303 - accuracy: 0.7948 - val_loss: 0.5215 - val_accuracy: 0.7524\n",
            "Epoch 48/50\n",
            "4500/4500 - 16s - loss: 0.4302 - accuracy: 0.7953 - val_loss: 0.5114 - val_accuracy: 0.7568\n",
            "Epoch 49/50\n",
            "4500/4500 - 16s - loss: 0.4313 - accuracy: 0.7942 - val_loss: 0.5092 - val_accuracy: 0.7564\n",
            "Epoch 50/50\n",
            "4500/4500 - 16s - loss: 0.4307 - accuracy: 0.7944 - val_loss: 0.5108 - val_accuracy: 0.7562\n",
            "Training Complete\n"
          ]
        }
      ]
    },
    {
      "cell_type": "code",
      "metadata": {
        "id": "qxju4ItJKO8F",
        "outputId": "05cabe5c-8e20-4d4b-ad35-eea13f548d3b",
        "colab": {
          "base_uri": "https://localhost:8080/",
          "height": 607
        }
      },
      "source": [
        "import matplotlib.image  as mpimg\n",
        "import matplotlib.pyplot as plt\n",
        "\n",
        "#-----------------------------------------------------------\n",
        "# Retrieve a list of list results on training and test data\n",
        "# sets for each training epoch\n",
        "#-----------------------------------------------------------\n",
        "acc=history.history['accuracy']\n",
        "val_acc=history.history['val_accuracy']\n",
        "loss=history.history['loss']\n",
        "val_loss=history.history['val_loss']\n",
        "\n",
        "epochs=range(len(acc)) # Get number of epochs\n",
        "\n",
        "#------------------------------------------------\n",
        "# Plot training and validation accuracy per epoch\n",
        "#------------------------------------------------\n",
        "plt.plot(epochs, acc, 'r')\n",
        "plt.plot(epochs, val_acc, 'b')\n",
        "plt.title('Training and validation accuracy')\n",
        "plt.xlabel(\"Epochs\")\n",
        "plt.ylabel(\"Accuracy\")\n",
        "plt.legend([\"Accuracy\", \"Validation Accuracy\"])\n",
        "\n",
        "plt.figure()\n",
        "\n",
        "#------------------------------------------------\n",
        "# Plot training and validation loss per epoch\n",
        "#------------------------------------------------\n",
        "plt.plot(epochs, loss, 'r')\n",
        "plt.plot(epochs, val_loss, 'b')\n",
        "plt.title('Training and validation loss')\n",
        "plt.xlabel(\"Epochs\")\n",
        "plt.ylabel(\"Loss\")\n",
        "plt.legend([\"Loss\", \"Validation Loss\"])\n",
        "\n",
        "plt.figure()\n",
        "\n",
        "\n",
        "# Expected Output\n",
        "# A chart where the validation loss does not increase sharply!"
      ],
      "execution_count": 10,
      "outputs": [
        {
          "output_type": "execute_result",
          "data": {
            "text/plain": [
              "<Figure size 432x288 with 0 Axes>"
            ]
          },
          "metadata": {},
          "execution_count": 10
        },
        {
          "output_type": "display_data",
          "data": {
            "image/png": "[encoded data removed]",
            "text/plain": [
              "<Figure size 432x288 with 1 Axes>"
            ]
          },
          "metadata": {
            "needs_background": "light"
          }
        },
        {
          "output_type": "display_data",
          "data": {
            "image/png": "[encoded data removed]",
            "text/plain": [
              "<Figure size 432x288 with 1 Axes>"
            ]
          },
          "metadata": {
            "needs_background": "light"
          }
        },
        {
          "output_type": "display_data",
          "data": {
            "text/plain": [
              "<Figure size 432x288 with 0 Axes>"
            ]
          },
          "metadata": {}
        }
      ]
    },
    {
      "cell_type": "code",
      "metadata": {
        "id": "FUM64xKNoS30"
      },
      "source": [
        ""
      ],
      "execution_count": null,
      "outputs": []
    }
  ]
}