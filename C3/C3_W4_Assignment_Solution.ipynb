{
  "nbformat": 4,
  "nbformat_minor": 0,
  "metadata": {
    "accelerator": "GPU",
    "colab": {
      "name": "C3_W4_Assignment_Solution.ipynb",
      "provenance": [],
      "collapsed_sections": [],
      "toc_visible": true,
      "include_colab_link": true
    },
    "kernelspec": {
      "name": "python3",
      "display_name": "Python 3"
    },
    "language_info": {
      "name": "python"
    }
  },
  "cells": [
    {
      "cell_type": "markdown",
      "metadata": {
        "id": "view-in-github",
        "colab_type": "text"
      },
      "source": [
        "<a href=\"https://colab.research.google.com/github/howardya/coursera-tensorflow-developer-certificate/blob/main/C3/C3_W4_Assignment_Solution.ipynb\" target=\"_parent\"><img src=\"https://colab.research.google.com/assets/colab-badge.svg\" alt=\"Open In Colab\"/></a>"
      ]
    },
    {
      "cell_type": "code",
      "metadata": {
        "id": "zX4Kg8DUTKWO"
      },
      "source": [
        "#@title Licensed under the Apache License, Version 2.0 (the \"License\");\n",
        "# you may not use this file except in compliance with the License.\n",
        "# You may obtain a copy of the License at\n",
        "#\n",
        "# https://www.apache.org/licenses/LICENSE-2.0\n",
        "#\n",
        "# Unless required by applicable law or agreed to in writing, software\n",
        "# distributed under the License is distributed on an \"AS IS\" BASIS,\n",
        "# WITHOUT WARRANTIES OR CONDITIONS OF ANY KIND, either express or implied.\n",
        "# See the License for the specific language governing permissions and\n",
        "# limitations under the License."
      ],
      "execution_count": null,
      "outputs": []
    },
    {
      "cell_type": "markdown",
      "metadata": {
        "id": "NeQByOlMmtn8"
      },
      "source": [
        "**Note:** This notebook can run using TensorFlow 2.5.0"
      ]
    },
    {
      "cell_type": "code",
      "metadata": {
        "id": "QtWdoQT_mtn8"
      },
      "source": [
        "#!pip install tensorflow==2.5.0"
      ],
      "execution_count": null,
      "outputs": []
    },
    {
      "cell_type": "code",
      "metadata": {
        "id": "BOwsuGQQY9OL"
      },
      "source": [
        "from tensorflow.keras.preprocessing.sequence import pad_sequences\n",
        "from tensorflow.keras.layers import Embedding, LSTM, Dense, Dropout, Bidirectional\n",
        "from tensorflow.keras.preprocessing.text import Tokenizer\n",
        "from tensorflow.keras.models import Sequential\n",
        "from tensorflow.keras.optimizers import Adam\n",
        "from tensorflow.keras import regularizers\n",
        "import tensorflow.keras.utils as ku \n",
        "import numpy as np "
      ],
      "execution_count": 1,
      "outputs": []
    },
    {
      "cell_type": "code",
      "metadata": {
        "id": "PRnDnCW-Z7qv",
        "outputId": "db6f5626-53c6-4626-8c5f-a7c8cc4dd081",
        "colab": {
          "base_uri": "https://localhost:8080/"
        }
      },
      "source": [
        "tokenizer = Tokenizer()\n",
        "\n",
        "# sonnets.txt\n",
        "!gdown --id 108jAePKK4R3BVYBbYJZ32JWUwxeMg20K\n",
        "\n",
        "data = open('./sonnets.txt').read()\n",
        "\n",
        "corpus = data.lower().split(\"\\n\")\n",
        "\n",
        "\n",
        "tokenizer.fit_on_texts(corpus)\n",
        "total_words = len(tokenizer.word_index) + 1\n",
        "\n",
        "# create input sequences using list of tokens\n",
        "input_sequences = []\n",
        "for line in corpus:\n",
        "\ttoken_list = tokenizer.texts_to_sequences([line])[0]\n",
        "\tfor i in range(1, len(token_list)):\n",
        "\t\tn_gram_sequence = token_list[:i+1]\n",
        "\t\tinput_sequences.append(n_gram_sequence)\n",
        "\n",
        "\n",
        "# pad sequences \n",
        "max_sequence_len = max([len(x) for x in input_sequences])\n",
        "input_sequences = np.array(pad_sequences(input_sequences, maxlen=max_sequence_len, padding='pre'))\n",
        "\n",
        "# create predictors and label\n",
        "predictors, label = input_sequences[:,:-1],input_sequences[:,-1]\n",
        "\n",
        "label = ku.to_categorical(label, num_classes=total_words)"
      ],
      "execution_count": 2,
      "outputs": [
        {
          "output_type": "stream",
          "name": "stdout",
          "text": [
            "Downloading...\n",
            "From: https://drive.google.com/uc?id=108jAePKK4R3BVYBbYJZ32JWUwxeMg20K\n",
            "To: /content/sonnets.txt\n",
            "\r  0% 0.00/93.6k [00:00<?, ?B/s]\r100% 93.6k/93.6k [00:00<00:00, 28.5MB/s]\n"
          ]
        }
      ]
    },
    {
      "cell_type": "code",
      "metadata": {
        "id": "w9vH8Y59ajYL",
        "outputId": "27fd6c5b-b09c-469c-eaae-ed9df5fb4615",
        "colab": {
          "base_uri": "https://localhost:8080/"
        }
      },
      "source": [
        "### START CODE HERE\n",
        "model = Sequential()\n",
        "model.add(Embedding(total_words, 100, input_length=max_sequence_len-1))# Your Embedding Layer)\n",
        "model.add(Bidirectional(LSTM(150, return_sequences = True)))# An LSTM Layer)\n",
        "model.add(Dropout(0.2))# A dropout layer)\n",
        "model.add(LSTM(100))# Another LSTM Layer)\n",
        "model.add(Dense(total_words/2, activation='relu', kernel_regularizer=regularizers.l2(0.01)))# A Dense Layer including regularizers)\n",
        "model.add(Dense(total_words, activation='softmax'))# A Dense Layer)\n",
        "# Pick an optimizer\n",
        "model.compile(loss='categorical_crossentropy', optimizer='adam', metrics=['accuracy'])# Pick a loss function and an optimizer)\n",
        "### END CODE HERE\n",
        "\n",
        "print(model.summary())"
      ],
      "execution_count": 3,
      "outputs": [
        {
          "output_type": "stream",
          "name": "stdout",
          "text": [
            "Model: \"sequential\"\n",
            "_________________________________________________________________\n",
            "Layer (type)                 Output Shape              Param #   \n",
            "=================================================================\n",
            "embedding (Embedding)        (None, 10, 100)           321100    \n",
            "_________________________________________________________________\n",
            "bidirectional (Bidirectional (None, 10, 300)           301200    \n",
            "_________________________________________________________________\n",
            "dropout (Dropout)            (None, 10, 300)           0         \n",
            "_________________________________________________________________\n",
            "lstm_1 (LSTM)                (None, 100)               160400    \n",
            "_________________________________________________________________\n",
            "dense (Dense)                (None, 1605)              162105    \n",
            "_________________________________________________________________\n",
            "dense_1 (Dense)              (None, 3211)              5156866   \n",
            "=================================================================\n",
            "Total params: 6,101,671\n",
            "Trainable params: 6,101,671\n",
            "Non-trainable params: 0\n",
            "_________________________________________________________________\n",
            "None\n"
          ]
        }
      ]
    },
    {
      "cell_type": "code",
      "metadata": {
        "id": "AIg2f1HBxqof",
        "outputId": "5593191d-10b3-4717-d72c-266d69ffa725",
        "colab": {
          "base_uri": "https://localhost:8080/"
        }
      },
      "source": [
        " history = model.fit(predictors, label, epochs=100, verbose=1)"
      ],
      "execution_count": 4,
      "outputs": [
        {
          "output_type": "stream",
          "name": "stdout",
          "text": [
            "Epoch 1/100\n",
            "484/484 [==============================] - 22s 24ms/step - loss: 6.9028 - accuracy: 0.0232\n",
            "Epoch 2/100\n",
            "484/484 [==============================] - 12s 24ms/step - loss: 6.4970 - accuracy: 0.0230\n",
            "Epoch 3/100\n",
            "484/484 [==============================] - 11s 24ms/step - loss: 6.4029 - accuracy: 0.0252\n",
            "Epoch 4/100\n",
            "484/484 [==============================] - 11s 24ms/step - loss: 6.2731 - accuracy: 0.0305\n",
            "Epoch 5/100\n",
            "484/484 [==============================] - 11s 23ms/step - loss: 6.1708 - accuracy: 0.0360\n",
            "Epoch 6/100\n",
            "484/484 [==============================] - 11s 23ms/step - loss: 6.0890 - accuracy: 0.0382\n",
            "Epoch 7/100\n",
            "484/484 [==============================] - 11s 23ms/step - loss: 6.0071 - accuracy: 0.0410\n",
            "Epoch 8/100\n",
            "484/484 [==============================] - 11s 23ms/step - loss: 5.9281 - accuracy: 0.0458\n",
            "Epoch 9/100\n",
            "484/484 [==============================] - 11s 23ms/step - loss: 5.8370 - accuracy: 0.0517\n",
            "Epoch 10/100\n",
            "484/484 [==============================] - 11s 23ms/step - loss: 5.7227 - accuracy: 0.0574\n",
            "Epoch 11/100\n",
            "484/484 [==============================] - 11s 23ms/step - loss: 5.6029 - accuracy: 0.0638\n",
            "Epoch 12/100\n",
            "484/484 [==============================] - 11s 23ms/step - loss: 5.4958 - accuracy: 0.0682\n",
            "Epoch 13/100\n",
            "484/484 [==============================] - 11s 23ms/step - loss: 5.3931 - accuracy: 0.0754\n",
            "Epoch 14/100\n",
            "484/484 [==============================] - 11s 23ms/step - loss: 5.2908 - accuracy: 0.0791\n",
            "Epoch 15/100\n",
            "484/484 [==============================] - 11s 23ms/step - loss: 5.1884 - accuracy: 0.0858\n",
            "Epoch 16/100\n",
            "484/484 [==============================] - 11s 23ms/step - loss: 5.0949 - accuracy: 0.0936\n",
            "Epoch 17/100\n",
            "484/484 [==============================] - 11s 23ms/step - loss: 4.9984 - accuracy: 0.0988\n",
            "Epoch 18/100\n",
            "484/484 [==============================] - 11s 23ms/step - loss: 4.9058 - accuracy: 0.1083\n",
            "Epoch 19/100\n",
            "484/484 [==============================] - 11s 23ms/step - loss: 4.8236 - accuracy: 0.1140\n",
            "Epoch 20/100\n",
            "484/484 [==============================] - 11s 23ms/step - loss: 4.7254 - accuracy: 0.1211\n",
            "Epoch 21/100\n",
            "484/484 [==============================] - 11s 23ms/step - loss: 4.6353 - accuracy: 0.1339\n",
            "Epoch 22/100\n",
            "484/484 [==============================] - 11s 23ms/step - loss: 4.5470 - accuracy: 0.1436\n",
            "Epoch 23/100\n",
            "484/484 [==============================] - 11s 23ms/step - loss: 4.4491 - accuracy: 0.1546\n",
            "Epoch 24/100\n",
            "484/484 [==============================] - 11s 23ms/step - loss: 4.3634 - accuracy: 0.1658\n",
            "Epoch 25/100\n",
            "484/484 [==============================] - 11s 23ms/step - loss: 4.2633 - accuracy: 0.1773\n",
            "Epoch 26/100\n",
            "484/484 [==============================] - 11s 23ms/step - loss: 4.1655 - accuracy: 0.1900\n",
            "Epoch 27/100\n",
            "484/484 [==============================] - 11s 23ms/step - loss: 4.0778 - accuracy: 0.1999\n",
            "Epoch 28/100\n",
            "484/484 [==============================] - 11s 23ms/step - loss: 3.9951 - accuracy: 0.2134\n",
            "Epoch 29/100\n",
            "484/484 [==============================] - 11s 23ms/step - loss: 3.8975 - accuracy: 0.2273\n",
            "Epoch 30/100\n",
            "484/484 [==============================] - 11s 23ms/step - loss: 3.8039 - accuracy: 0.2413\n",
            "Epoch 31/100\n",
            "484/484 [==============================] - 11s 23ms/step - loss: 3.7184 - accuracy: 0.2608\n",
            "Epoch 32/100\n",
            "484/484 [==============================] - 11s 23ms/step - loss: 3.6324 - accuracy: 0.2723\n",
            "Epoch 33/100\n",
            "484/484 [==============================] - 11s 23ms/step - loss: 3.5477 - accuracy: 0.2927\n",
            "Epoch 34/100\n",
            "484/484 [==============================] - 11s 23ms/step - loss: 3.4578 - accuracy: 0.3091\n",
            "Epoch 35/100\n",
            "484/484 [==============================] - 11s 23ms/step - loss: 3.3726 - accuracy: 0.3270\n",
            "Epoch 36/100\n",
            "484/484 [==============================] - 11s 23ms/step - loss: 3.3024 - accuracy: 0.3386\n",
            "Epoch 37/100\n",
            "484/484 [==============================] - 11s 22ms/step - loss: 3.2253 - accuracy: 0.3561\n",
            "Epoch 38/100\n",
            "484/484 [==============================] - 11s 23ms/step - loss: 3.1494 - accuracy: 0.3754\n",
            "Epoch 39/100\n",
            "484/484 [==============================] - 11s 23ms/step - loss: 3.0814 - accuracy: 0.3904\n",
            "Epoch 40/100\n",
            "484/484 [==============================] - 11s 23ms/step - loss: 3.0121 - accuracy: 0.4029\n",
            "Epoch 41/100\n",
            "484/484 [==============================] - 11s 23ms/step - loss: 2.9559 - accuracy: 0.4155\n",
            "Epoch 42/100\n",
            "484/484 [==============================] - 11s 23ms/step - loss: 2.8792 - accuracy: 0.4367\n",
            "Epoch 43/100\n",
            "484/484 [==============================] - 11s 23ms/step - loss: 2.8215 - accuracy: 0.4504\n",
            "Epoch 44/100\n",
            "484/484 [==============================] - 11s 23ms/step - loss: 2.7648 - accuracy: 0.4633\n",
            "Epoch 45/100\n",
            "484/484 [==============================] - 11s 23ms/step - loss: 2.7010 - accuracy: 0.4789\n",
            "Epoch 46/100\n",
            "484/484 [==============================] - 11s 23ms/step - loss: 2.6479 - accuracy: 0.4881\n",
            "Epoch 47/100\n",
            "484/484 [==============================] - 11s 22ms/step - loss: 2.5886 - accuracy: 0.4988\n",
            "Epoch 48/100\n",
            "484/484 [==============================] - 11s 23ms/step - loss: 2.5371 - accuracy: 0.5140\n",
            "Epoch 49/100\n",
            "484/484 [==============================] - 11s 23ms/step - loss: 2.4846 - accuracy: 0.5258\n",
            "Epoch 50/100\n",
            "484/484 [==============================] - 11s 23ms/step - loss: 2.4351 - accuracy: 0.5375\n",
            "Epoch 51/100\n",
            "484/484 [==============================] - 11s 23ms/step - loss: 2.3898 - accuracy: 0.5449\n",
            "Epoch 52/100\n",
            "484/484 [==============================] - 11s 23ms/step - loss: 2.3393 - accuracy: 0.5583\n",
            "Epoch 53/100\n",
            "484/484 [==============================] - 11s 22ms/step - loss: 2.3105 - accuracy: 0.5656\n",
            "Epoch 54/100\n",
            "484/484 [==============================] - 11s 23ms/step - loss: 2.2550 - accuracy: 0.5777\n",
            "Epoch 55/100\n",
            "484/484 [==============================] - 11s 22ms/step - loss: 2.2073 - accuracy: 0.5851\n",
            "Epoch 56/100\n",
            "484/484 [==============================] - 11s 22ms/step - loss: 2.1645 - accuracy: 0.6024\n",
            "Epoch 57/100\n",
            "484/484 [==============================] - 11s 23ms/step - loss: 2.1321 - accuracy: 0.6037\n",
            "Epoch 58/100\n",
            "484/484 [==============================] - 11s 23ms/step - loss: 2.0942 - accuracy: 0.6114\n",
            "Epoch 59/100\n",
            "484/484 [==============================] - 11s 22ms/step - loss: 2.0500 - accuracy: 0.6227\n",
            "Epoch 60/100\n",
            "484/484 [==============================] - 11s 23ms/step - loss: 2.0167 - accuracy: 0.6323\n",
            "Epoch 61/100\n",
            "484/484 [==============================] - 11s 23ms/step - loss: 1.9961 - accuracy: 0.6370\n",
            "Epoch 62/100\n",
            "484/484 [==============================] - 11s 22ms/step - loss: 1.9633 - accuracy: 0.6405\n",
            "Epoch 63/100\n",
            "484/484 [==============================] - 11s 23ms/step - loss: 1.9205 - accuracy: 0.6528\n",
            "Epoch 64/100\n",
            "484/484 [==============================] - 11s 23ms/step - loss: 1.8819 - accuracy: 0.6619\n",
            "Epoch 65/100\n",
            "484/484 [==============================] - 11s 23ms/step - loss: 1.8512 - accuracy: 0.6667\n",
            "Epoch 66/100\n",
            "484/484 [==============================] - 11s 23ms/step - loss: 1.8363 - accuracy: 0.6689\n",
            "Epoch 67/100\n",
            "484/484 [==============================] - 11s 23ms/step - loss: 1.8211 - accuracy: 0.6705\n",
            "Epoch 68/100\n",
            "484/484 [==============================] - 11s 23ms/step - loss: 1.7596 - accuracy: 0.6847\n",
            "Epoch 69/100\n",
            "484/484 [==============================] - 11s 23ms/step - loss: 1.7460 - accuracy: 0.6890\n",
            "Epoch 70/100\n",
            "484/484 [==============================] - 11s 23ms/step - loss: 1.7357 - accuracy: 0.6880\n",
            "Epoch 71/100\n",
            "484/484 [==============================] - 11s 23ms/step - loss: 1.6971 - accuracy: 0.6979\n",
            "Epoch 72/100\n",
            "484/484 [==============================] - 11s 23ms/step - loss: 1.6661 - accuracy: 0.7035\n",
            "Epoch 73/100\n",
            "484/484 [==============================] - 11s 23ms/step - loss: 1.6390 - accuracy: 0.7114\n",
            "Epoch 74/100\n",
            "484/484 [==============================] - 11s 22ms/step - loss: 1.6322 - accuracy: 0.7101\n",
            "Epoch 75/100\n",
            "484/484 [==============================] - 11s 23ms/step - loss: 1.6056 - accuracy: 0.7180\n",
            "Epoch 76/100\n",
            "484/484 [==============================] - 11s 23ms/step - loss: 1.5870 - accuracy: 0.7189\n",
            "Epoch 77/100\n",
            "484/484 [==============================] - 11s 22ms/step - loss: 1.5772 - accuracy: 0.7212\n",
            "Epoch 78/100\n",
            "484/484 [==============================] - 11s 23ms/step - loss: 1.5453 - accuracy: 0.7288\n",
            "Epoch 79/100\n",
            "484/484 [==============================] - 11s 23ms/step - loss: 1.5211 - accuracy: 0.7336\n",
            "Epoch 80/100\n",
            "484/484 [==============================] - 11s 23ms/step - loss: 1.4879 - accuracy: 0.7394\n",
            "Epoch 81/100\n",
            "484/484 [==============================] - 11s 23ms/step - loss: 1.4808 - accuracy: 0.7427\n",
            "Epoch 82/100\n",
            "484/484 [==============================] - 11s 23ms/step - loss: 1.4684 - accuracy: 0.7383\n",
            "Epoch 83/100\n",
            "484/484 [==============================] - 11s 23ms/step - loss: 1.4565 - accuracy: 0.7434\n",
            "Epoch 84/100\n",
            "484/484 [==============================] - 11s 23ms/step - loss: 1.4270 - accuracy: 0.7518\n",
            "Epoch 85/100\n",
            "484/484 [==============================] - 11s 23ms/step - loss: 1.4087 - accuracy: 0.7553\n",
            "Epoch 86/100\n",
            "484/484 [==============================] - 11s 23ms/step - loss: 1.4021 - accuracy: 0.7557\n",
            "Epoch 87/100\n",
            "484/484 [==============================] - 11s 23ms/step - loss: 1.3846 - accuracy: 0.7553\n",
            "Epoch 88/100\n",
            "484/484 [==============================] - 11s 23ms/step - loss: 1.3827 - accuracy: 0.7602\n",
            "Epoch 89/100\n",
            "484/484 [==============================] - 11s 22ms/step - loss: 1.3649 - accuracy: 0.7604\n",
            "Epoch 90/100\n",
            "484/484 [==============================] - 11s 23ms/step - loss: 1.3518 - accuracy: 0.7643\n",
            "Epoch 91/100\n",
            "484/484 [==============================] - 11s 23ms/step - loss: 1.3370 - accuracy: 0.7689\n",
            "Epoch 92/100\n",
            "484/484 [==============================] - 11s 23ms/step - loss: 1.3087 - accuracy: 0.7738\n",
            "Epoch 93/100\n",
            "484/484 [==============================] - 11s 23ms/step - loss: 1.2925 - accuracy: 0.7780\n",
            "Epoch 94/100\n",
            "484/484 [==============================] - 11s 23ms/step - loss: 1.2760 - accuracy: 0.7802\n",
            "Epoch 95/100\n",
            "484/484 [==============================] - 11s 23ms/step - loss: 1.2795 - accuracy: 0.7778\n",
            "Epoch 96/100\n",
            "484/484 [==============================] - 11s 23ms/step - loss: 1.2722 - accuracy: 0.7801\n",
            "Epoch 97/100\n",
            "484/484 [==============================] - 11s 23ms/step - loss: 1.2548 - accuracy: 0.7815\n",
            "Epoch 98/100\n",
            "484/484 [==============================] - 11s 22ms/step - loss: 1.2544 - accuracy: 0.7800\n",
            "Epoch 99/100\n",
            "484/484 [==============================] - 11s 23ms/step - loss: 1.2371 - accuracy: 0.7846\n",
            "Epoch 100/100\n",
            "484/484 [==============================] - 11s 23ms/step - loss: 1.2164 - accuracy: 0.7898\n"
          ]
        }
      ]
    },
    {
      "cell_type": "code",
      "metadata": {
        "id": "1fXTEO3GJ282",
        "outputId": "794693fd-462b-4cea-debd-dec95a40d5b7",
        "colab": {
          "base_uri": "https://localhost:8080/",
          "height": 545
        }
      },
      "source": [
        "import matplotlib.pyplot as plt\n",
        "acc = history.history['accuracy']\n",
        "loss = history.history['loss']\n",
        "\n",
        "epochs = range(len(acc))\n",
        "\n",
        "plt.plot(epochs, acc, 'b', label='Training accuracy')\n",
        "plt.title('Training accuracy')\n",
        "\n",
        "plt.figure()\n",
        "\n",
        "plt.plot(epochs, loss, 'b', label='Training Loss')\n",
        "plt.title('Training loss')\n",
        "plt.legend()\n",
        "\n",
        "plt.show()"
      ],
      "execution_count": 5,
      "outputs": [
        {
          "output_type": "display_data",
          "data": {
            "image/png": "[encoded data removed]",
            "text/plain": [
              "<Figure size 432x288 with 1 Axes>"
            ]
          },
          "metadata": {
            "needs_background": "light"
          }
        },
        {
          "output_type": "display_data",
          "data": {
            "image/png": "[encoded data removed]",
            "text/plain": [
              "<Figure size 432x288 with 1 Axes>"
            ]
          },
          "metadata": {
            "needs_background": "light"
          }
        }
      ]
    },
    {
      "cell_type": "code",
      "metadata": {
        "id": "6Vc6PHgxa6Hm",
        "outputId": "d04155c6-6f6a-4bf1-89e4-422064057f84",
        "colab": {
          "base_uri": "https://localhost:8080/"
        }
      },
      "source": [
        "seed_text = \"Help me Obi Wan Kenobi, you're my only hope\"\n",
        "next_words = 100\n",
        "  \n",
        "for _ in range(next_words):\n",
        "\ttoken_list = tokenizer.texts_to_sequences([seed_text])[0]\n",
        "\ttoken_list = pad_sequences([token_list], maxlen=max_sequence_len-1, padding='pre')\n",
        "\t# predicted = model.predict_classes(token_list, verbose=0)\n",
        "\tpredicted_y = model.predict(token_list, verbose=0)\n",
        "\tpredicted = np.argmax(predicted_y,axis=1)\n",
        "\toutput_word = \"\"\n",
        "\tfor word, index in tokenizer.word_index.items():\n",
        "\t\tif index == predicted:\n",
        "\t\t\toutput_word = word\n",
        "\t\t\tbreak\n",
        "\tseed_text += \" \" + output_word\n",
        "print(seed_text)"
      ],
      "execution_count": 6,
      "outputs": [
        {
          "output_type": "stream",
          "name": "stdout",
          "text": [
            "Help me Obi Wan Kenobi, you're my only hope be men thou dost one might stay dead ill lies young beauty's part prime well fire survey rare must still seen pride thou fill me so thine old ill lies still bright bright still ill ill blood still express'd prove thee thee alone in them well who shall hold me so strong song rare taken twain green now bear heaven seen 'no ' say now lie doth dwell be reason or words increase last from thee as first i swear hold a look doth deceive quite race defaced gone right doth strife cross brought of groan days chide life well\n"
          ]
        }
      ]
    }
  ]
}